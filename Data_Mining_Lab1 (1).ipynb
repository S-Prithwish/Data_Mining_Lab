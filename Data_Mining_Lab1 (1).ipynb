{
  "nbformat": 4,
  "nbformat_minor": 0,
  "metadata": {
    "colab": {
      "provenance": []
    },
    "kernelspec": {
      "name": "python3",
      "display_name": "Python 3"
    },
    "language_info": {
      "name": "python"
    }
  },
  "cells": [
    {
      "cell_type": "markdown",
      "source": [
        "To check a palindrome or symmetrical string"
      ],
      "metadata": {
        "id": "LqxBF6HJO3KP"
      }
    },
    {
      "cell_type": "code",
      "execution_count": null,
      "metadata": {
        "colab": {
          "base_uri": "https://localhost:8080/"
        },
        "id": "Cqyb_emyOXZM",
        "outputId": "ae1c96da-9282-4316-a088-179f6070523a"
      },
      "outputs": [
        {
          "output_type": "stream",
          "name": "stdout",
          "text": [
            "Enter a stringammaamma\n",
            "ammaamma is symmetrical\n",
            "ammaamma is Palindrome\n"
          ]
        }
      ],
      "source": [
        "st = input(\"Enter a string\")\n",
        "l = len(st)\n",
        "f = 0\n",
        "def isPalin(st):\n",
        "  return st == st[::-1]\n",
        "\n",
        "def symm(st):\n",
        "  mid = l/2 + 1\n",
        "  pos1 = 0\n",
        "  pos2 = mid\n",
        "\n",
        "  while(pos1 < mid and pos2 < l):\n",
        "    if(st[pos1] == st[pos2]):\n",
        "      pos1 = pos1 + 1\n",
        "      pos2 = pos2 + 1\n",
        "    else:\n",
        "      f = 1\n",
        "      break\n",
        "\n",
        "if(f == 0):\n",
        "  print(st + \" is symmetrical\")\n",
        "else:\n",
        "  print(st + \"  is not symmetrical\")\n",
        "\n",
        "\n",
        "\n",
        "\n",
        "ans = isPalin(st)\n",
        "if ans:\n",
        "  print(st + \" is Palindrome\")\n",
        "else:\n",
        "  print(st + \" is not Palindrome\")\n",
        "\n"
      ]
    },
    {
      "cell_type": "markdown",
      "source": [
        "reverse words in a given string\n"
      ],
      "metadata": {
        "id": "oHmwYnIXSj2s"
      }
    },
    {
      "cell_type": "code",
      "source": [
        "st1 = input(\"Enter a string\")\n",
        "s = st1.split()[::-1]\n",
        "l = []\n",
        "for i in s:\n",
        "  l.append(i)\n",
        "\n",
        "print(\" \".join(l))"
      ],
      "metadata": {
        "id": "FOiLXJF1SqTN",
        "colab": {
          "base_uri": "https://localhost:8080/"
        },
        "outputId": "ca95ff0c-f0b9-4781-b321-d2cc84614bb2"
      },
      "execution_count": 1,
      "outputs": [
        {
          "output_type": "stream",
          "name": "stdout",
          "text": [
            "Enter a stringThis is cool !\n",
            "! cool is This\n"
          ]
        }
      ]
    },
    {
      "cell_type": "markdown",
      "source": [
        "Remove letters from a string in python\n"
      ],
      "metadata": {
        "id": "vm18BAATkufK"
      }
    },
    {
      "cell_type": "code",
      "source": [
        "st2 = input(\"Enter a string\")\n",
        "l = len(st2)\n",
        "newstr = \" \"\n",
        "for i in range(l):\n",
        "    if st2[i].isalpha():\n",
        "        newstr = newstr + st2[i]\n",
        "\n",
        "print(newstr)"
      ],
      "metadata": {
        "colab": {
          "base_uri": "https://localhost:8080/"
        },
        "id": "ZG2xEMcHk-8V",
        "outputId": "0f043ed6-ae5f-43ff-a2ce-d31bb717e88a"
      },
      "execution_count": 6,
      "outputs": [
        {
          "output_type": "stream",
          "name": "stdout",
          "text": [
            "Enter a stringgeeks123for456geeks\n",
            " geeksforgeeks\n"
          ]
        }
      ]
    },
    {
      "cell_type": "markdown",
      "source": [
        "Uppercase Half String"
      ],
      "metadata": {
        "id": "7REAFMhsmy-3"
      }
    },
    {
      "cell_type": "code",
      "source": [
        "st3 = input(\"Enter a string\")\n",
        "mid = len(st3)//2\n",
        "res = st3[:mid] + st3[mid:].upper()\n",
        "print(res)"
      ],
      "metadata": {
        "colab": {
          "base_uri": "https://localhost:8080/"
        },
        "id": "mFYtWpTxmwh7",
        "outputId": "656ce596-f50f-42c2-a47a-d31aa00e0f1d"
      },
      "execution_count": 7,
      "outputs": [
        {
          "output_type": "stream",
          "name": "stdout",
          "text": [
            "Enter a stringtrial\n",
            "trIAL\n"
          ]
        }
      ]
    },
    {
      "cell_type": "markdown",
      "source": [
        "Capitalize first and last character of each word in a string"
      ],
      "metadata": {
        "id": "PcYgAtlim363"
      }
    },
    {
      "cell_type": "code",
      "source": [],
      "metadata": {
        "id": "PoDH-aDWm9-_"
      },
      "execution_count": null,
      "outputs": []
    }
  ]
}